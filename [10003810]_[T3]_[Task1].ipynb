{
  "cells": [
    {
      "cell_type": "code",
      "execution_count": 6,
      "metadata": {
        "colab": {
          "base_uri": "https://localhost:8080/"
        },
        "id": "IAAThwuGSgKo",
        "outputId": "b7c537e3-20c3-4795-9a35-a90af83b603f"
      },
      "outputs": [
        {
          "output_type": "stream",
          "name": "stdout",
          "text": [
            "Probable key length for s0: 3\n",
            "Probable key length for s1: 10\n",
            "Probable key length for s2: 7\n"
          ]
        }
      ],
      "source": [
        "\n",
        "\n",
        "def generateIC(coset):\n",
        "    cosetIC = 0\n",
        "    for c in coset:\n",
        "        c = c.lower()\n",
        "        count = [0]*26\n",
        "        n = 0\n",
        "        for i in range(0, len(c)):\n",
        "            val = ord(c[i]) - ord('a')\n",
        "            if(val >= 0 and val <= 25):\n",
        "                count[val] = count[val] + 1\n",
        "                n += 1\n",
        "        total = 0.0\n",
        "        for i in range(0, len(count)):\n",
        "            total += count[i] * (count[i]-1)\n",
        "        total = total/(n*(n-1))\n",
        "        cosetIC += total\n",
        "    cosetIC = cosetIC/len(coset)\n",
        "    return cosetIC\n",
        "\n",
        "def crack(cipher):\n",
        "\n",
        "    average_ic_per_key_length = {}\n",
        "\n",
        "\n",
        "    for key_length in range(1, 11):\n",
        "        cosets = ['' for _ in range(key_length)]\n",
        "        for i, char in enumerate(cipher):\n",
        "            cosets[i % key_length] += char\n",
        "        average_ic = generateIC(cosets)\n",
        "        average_ic_per_key_length[key_length] = average_ic\n",
        "\n",
        "\n",
        "    most_probable_key_length = max(average_ic_per_key_length, key=average_ic_per_key_length.get)\n",
        "\n",
        "    return most_probable_key_length\n",
        "\n",
        "s0 = \"RSTCSJLSLRSLFELGWLFIISIKRMGL\"\n",
        "s1 = \"OICPWZXZEVLGCLNFSYPGALPXWZJTEGALPCSIIWDHOIECCBFWPAHOPCGALPCCBROASNWTYHOIDBIHVPSCSIDEVLSYPGDLZDSLXSTBNWOTTMICPBAPJEVLCLCSUSEQCUHZQFBPPDOUHESSFLLGSUSCPGWINETVVESSZXLEIZUFZMVYNLBXYZESALPXRPWLRFLIHTHOXSPANPZCWMCZCJPPTQMALPXOISFEHOIZYZFXSTBNCZFQHRYZHKSTDWNRZCSALPXPLGLFGLXSPMJLLYULXSTBNWESSFTFDVALPSITEYCOJIQZFDECOOUHHSWSIDZALQLJGLIESSTEDEVLGCLNFSYPGDIDPSNIYTIZFPNOBWPEVLTPZDSIHSCHVPNFHDJPBVYRSHVXSTBRXSPMJEYNVHRRPHOIHZFSHLCSALPZBLWHSCKS\"\n",
        "s2 = \"VVVXSQWPSNJMUMJOKKLGFQAVEXAHWRVTMFXVVRKAJTVMFLOPHYWJDSTXKAGFVVTPHKYEPPJOKPSWACJVSIGGVOLXLVMQPVCMGOGMFLAKENVRMIUAKTKVHIXCFJZRAHWFHLIUMHCIRFWGFOETIUNEQVJWEHOSJWVQFYWKYMPGQHWISOPKHYFYV\"\n",
        "\n",
        "\n",
        "key_length_s0 = crack(s0)\n",
        "key_length_s1 = crack(s1)\n",
        "key_length_s2 = crack(s2)\n",
        "\n",
        "print(\"Probable key length for s0:\", key_length_s0)\n",
        "print(\"Probable key length for s1:\", key_length_s1)\n",
        "print(\"Probable key length for s2:\", key_length_s2)\n"
      ]
    },
    {
      "cell_type": "code",
      "execution_count": 1,
      "metadata": {
        "id": "BKid_zajrYRu"
      },
      "outputs": [],
      "source": [
        "\n"
      ]
    },
    {
      "cell_type": "code",
      "execution_count": 2,
      "metadata": {
        "colab": {
          "base_uri": "https://localhost:8080/"
        },
        "id": "Kavu1zUtrYRu",
        "outputId": "cc9be41f-1183-4ca6-fb21-67dbdc2f3bdb"
      },
      "outputs": [
        {
          "output_type": "stream",
          "name": "stdout",
          "text": [
            "None\n"
          ]
        }
      ],
      "source": []
    }
  ],
  "metadata": {
    "colab": {
      "provenance": []
    },
    "kernelspec": {
      "display_name": "Python 3",
      "name": "python3"
    },
    "language_info": {
      "name": "python"
    }
  },
  "nbformat": 4,
  "nbformat_minor": 0
}